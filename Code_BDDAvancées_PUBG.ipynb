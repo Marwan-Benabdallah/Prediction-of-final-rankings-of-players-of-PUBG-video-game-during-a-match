{
 "cells": [
  {
   "cell_type": "code",
   "execution_count": 1,
   "metadata": {},
   "outputs": [
    {
     "name": "stdout",
     "output_type": "stream",
     "text": [
      "['sample_submission_V2.csv', 'submission_100_Epochs.csv', 'submission_20_Epochs.csv', 'submission_2_Epochs.csv', 'test_V2.csv', 'train_V2.csv']\n"
     ]
    }
   ],
   "source": [
    "import itertools\n",
    "import gc\n",
    "import os\n",
    "import sys\n",
    "import matplotlib.pyplot as plt\n",
    "import seaborn as sns\n",
    "import pandas as pd\n",
    "import numpy as np\n",
    "\n",
    "sns.set_palette('bone')\n",
    "\n",
    "sns.set_style('darkgrid')\n",
    "\n",
    "pd.options.display.float_format = '{:,.3f}'.format\n",
    "\n",
    "\n",
    "print(os.listdir(\"C:/Users/Marwan/Desktop/BDDAvancées\"))"
   ]
  },
  {
   "cell_type": "code",
   "execution_count": 2,
   "metadata": {},
   "outputs": [],
   "source": [
    "def product(liste1,liste2):\n",
    "    return list(itertools.product(liste1,liste2))"
   ]
  },
  {
   "cell_type": "code",
   "execution_count": 3,
   "metadata": {},
   "outputs": [],
   "source": [
    "def reduire_utilisation_mem(dataFrame):\n",
    "    \n",
    "    debut_mem = dataFrame.memory_usage().sum() / 1024**2\n",
    "    \n",
    "    for colonne in dataFrame.columns:\n",
    "        \n",
    "        colonne_type = dataFrame[colonne].dtype\n",
    "        \n",
    "        if colonne_type != object:\n",
    "            \n",
    "            colonne_min = dataFrame[colonne].min()\n",
    "            colonne_max = dataFrame[colonne].max()\n",
    "            \n",
    "            if str(colonne_type)[:3] == 'int':\n",
    "                \n",
    "                if colonne_min > np.iinfo(np.int8).min and colonne_max < np.iinfo(np.int8).max:\n",
    "                    dataFrame[colonne] = dataFrame[colonne].astype(np.int8)\n",
    "                    \n",
    "                elif colonne_min > np.iinfo(np.int16).min and colonne_max < np.iinfo(np.int16).max:\n",
    "                    dataFrame[colonne] = dataFrame[colonne].astype(np.int16)\n",
    "                    \n",
    "                elif colonne_min > np.iinfo(np.int32).min and colonne_max < np.iinfo(np.int32).max:\n",
    "                    dataFrame[colonne] = dataFrame[colonne].astype(np.int32)\n",
    "                    \n",
    "                elif colonne_min > np.iinfo(np.int64).min and colonne_max < np.iinfo(np.int64).max:\n",
    "                    dataFrame[colonne] = dataFrame[colonne].astype(np.int64) \n",
    "                    \n",
    "            else:\n",
    "                \n",
    "                if colonne_min > np.finfo(np.float32).min and colonne_max < np.finfo(np.float32).max:\n",
    "                    dataFrame[colonne] = dataFrame[colonne].astype(np.float32)\n",
    "                    \n",
    "                else:\n",
    "                    \n",
    "                    dataFrame[colonne] = dataFrame[colonne].astype(np.float64)\n",
    "                    \n",
    "    fin_mem = dataFrame.memory_usage().sum() / 1024**2\n",
    "    print(\"L'utilisation de la memoire du dataframe est passé de {:.2f} MB à {:.2f} MB (decroissant de {:.1f}%)\".format(\n",
    "        debut_mem, fin_mem, 100 * (debut_mem - fin_mem) / debut_mem))\n",
    "    return dataFrame"
   ]
  },
  {
   "cell_type": "code",
   "execution_count": 4,
   "metadata": {},
   "outputs": [
    {
     "name": "stdout",
     "output_type": "stream",
     "text": [
      "L'utilisation de la memoire du dataframe est passé de 983.90 MB à 339.28 MB (decroissant de 65.5%)\n",
      "L'utilisation de la memoire du dataframe est passé de 413.18 MB à 140.19 MB (decroissant de 66.1%)\n",
      "(4446966, 29) (1934174, 28)\n",
      "Wall time: 1min 28s\n"
     ]
    }
   ],
   "source": [
    "%%time\n",
    "\n",
    "os.chdir('C:/Users/Marwan/Desktop/BDDAvancées')\n",
    "\n",
    "train = pd.read_csv('train_V2.csv')\n",
    "train = reduire_utilisation_mem(train)\n",
    "\n",
    "test = pd.read_csv('test_V2.csv')\n",
    "test = reduire_utilisation_mem(test)\n",
    "\n",
    "print(train.shape, test.shape)"
   ]
  },
  {
   "cell_type": "code",
   "execution_count": 5,
   "metadata": {},
   "outputs": [
    {
     "name": "stdout",
     "output_type": "stream",
     "text": [
      "<class 'pandas.core.frame.DataFrame'>\n",
      "RangeIndex: 4446966 entries, 0 to 4446965\n",
      "Data columns (total 29 columns):\n",
      "Id                 object\n",
      "groupId            object\n",
      "matchId            object\n",
      "assists            int8\n",
      "boosts             int8\n",
      "damageDealt        float32\n",
      "DBNOs              int8\n",
      "headshotKills      int8\n",
      "heals              int8\n",
      "killPlace          int8\n",
      "killPoints         int16\n",
      "kills              int8\n",
      "killStreaks        int8\n",
      "longestKill        float32\n",
      "matchDuration      int16\n",
      "matchType          object\n",
      "maxPlace           int8\n",
      "numGroups          int8\n",
      "rankPoints         int16\n",
      "revives            int8\n",
      "rideDistance       float32\n",
      "roadKills          int8\n",
      "swimDistance       float32\n",
      "teamKills          int8\n",
      "vehicleDestroys    int8\n",
      "walkDistance       float32\n",
      "weaponsAcquired    int16\n",
      "winPoints          int16\n",
      "winPlacePerc       float32\n",
      "dtypes: float32(6), int16(5), int8(14), object(4)\n",
      "memory usage: 339.3+ MB\n"
     ]
    }
   ],
   "source": [
    "train.info()"
   ]
  },
  {
   "cell_type": "code",
   "execution_count": 6,
   "metadata": {},
   "outputs": [
    {
     "name": "stdout",
     "output_type": "stream",
     "text": [
      "nombre de 'null': winPlacePerc    1\n",
      "dtype: int64\n"
     ]
    }
   ],
   "source": [
    "nbr_null = train.isnull().sum().sort_values()\n",
    "\n",
    "print(\"nombre de 'null':\", nbr_null[nbr_null > 0])\n",
    "\n",
    "train.dropna(inplace=True)"
   ]
  },
  {
   "cell_type": "code",
   "execution_count": 7,
   "metadata": {},
   "outputs": [
    {
     "data": {
      "text/html": [
       "<div>\n",
       "<style scoped>\n",
       "    .dataframe tbody tr th:only-of-type {\n",
       "        vertical-align: middle;\n",
       "    }\n",
       "\n",
       "    .dataframe tbody tr th {\n",
       "        vertical-align: top;\n",
       "    }\n",
       "\n",
       "    .dataframe thead th {\n",
       "        text-align: right;\n",
       "    }\n",
       "</style>\n",
       "<table border=\"1\" class=\"dataframe\">\n",
       "  <thead>\n",
       "    <tr style=\"text-align: right;\">\n",
       "      <th></th>\n",
       "      <th>mean</th>\n",
       "      <th>std</th>\n",
       "      <th>min</th>\n",
       "      <th>25%</th>\n",
       "      <th>50%</th>\n",
       "      <th>75%</th>\n",
       "      <th>max</th>\n",
       "    </tr>\n",
       "  </thead>\n",
       "  <tbody>\n",
       "    <tr>\n",
       "      <th>assists</th>\n",
       "      <td>0.234</td>\n",
       "      <td>0.589</td>\n",
       "      <td>0.000</td>\n",
       "      <td>0.000</td>\n",
       "      <td>0.000</td>\n",
       "      <td>0.000</td>\n",
       "      <td>22.000</td>\n",
       "    </tr>\n",
       "    <tr>\n",
       "      <th>boosts</th>\n",
       "      <td>1.107</td>\n",
       "      <td>1.716</td>\n",
       "      <td>0.000</td>\n",
       "      <td>0.000</td>\n",
       "      <td>0.000</td>\n",
       "      <td>2.000</td>\n",
       "      <td>33.000</td>\n",
       "    </tr>\n",
       "    <tr>\n",
       "      <th>damageDealt</th>\n",
       "      <td>130.633</td>\n",
       "      <td>169.887</td>\n",
       "      <td>0.000</td>\n",
       "      <td>0.000</td>\n",
       "      <td>84.240</td>\n",
       "      <td>186.000</td>\n",
       "      <td>6,616.000</td>\n",
       "    </tr>\n",
       "    <tr>\n",
       "      <th>DBNOs</th>\n",
       "      <td>0.658</td>\n",
       "      <td>1.146</td>\n",
       "      <td>0.000</td>\n",
       "      <td>0.000</td>\n",
       "      <td>0.000</td>\n",
       "      <td>1.000</td>\n",
       "      <td>53.000</td>\n",
       "    </tr>\n",
       "    <tr>\n",
       "      <th>headshotKills</th>\n",
       "      <td>0.227</td>\n",
       "      <td>0.602</td>\n",
       "      <td>0.000</td>\n",
       "      <td>0.000</td>\n",
       "      <td>0.000</td>\n",
       "      <td>0.000</td>\n",
       "      <td>64.000</td>\n",
       "    </tr>\n",
       "    <tr>\n",
       "      <th>heals</th>\n",
       "      <td>1.370</td>\n",
       "      <td>2.680</td>\n",
       "      <td>0.000</td>\n",
       "      <td>0.000</td>\n",
       "      <td>0.000</td>\n",
       "      <td>2.000</td>\n",
       "      <td>80.000</td>\n",
       "    </tr>\n",
       "    <tr>\n",
       "      <th>killPlace</th>\n",
       "      <td>47.599</td>\n",
       "      <td>27.463</td>\n",
       "      <td>1.000</td>\n",
       "      <td>24.000</td>\n",
       "      <td>47.000</td>\n",
       "      <td>71.000</td>\n",
       "      <td>101.000</td>\n",
       "    </tr>\n",
       "    <tr>\n",
       "      <th>killPoints</th>\n",
       "      <td>505.006</td>\n",
       "      <td>627.505</td>\n",
       "      <td>0.000</td>\n",
       "      <td>0.000</td>\n",
       "      <td>0.000</td>\n",
       "      <td>1,172.000</td>\n",
       "      <td>2,170.000</td>\n",
       "    </tr>\n",
       "    <tr>\n",
       "      <th>kills</th>\n",
       "      <td>0.925</td>\n",
       "      <td>1.558</td>\n",
       "      <td>0.000</td>\n",
       "      <td>0.000</td>\n",
       "      <td>0.000</td>\n",
       "      <td>1.000</td>\n",
       "      <td>72.000</td>\n",
       "    </tr>\n",
       "    <tr>\n",
       "      <th>killStreaks</th>\n",
       "      <td>0.544</td>\n",
       "      <td>0.711</td>\n",
       "      <td>0.000</td>\n",
       "      <td>0.000</td>\n",
       "      <td>0.000</td>\n",
       "      <td>1.000</td>\n",
       "      <td>20.000</td>\n",
       "    </tr>\n",
       "    <tr>\n",
       "      <th>longestKill</th>\n",
       "      <td>22.993</td>\n",
       "      <td>51.476</td>\n",
       "      <td>0.000</td>\n",
       "      <td>0.000</td>\n",
       "      <td>0.000</td>\n",
       "      <td>21.320</td>\n",
       "      <td>1,094.000</td>\n",
       "    </tr>\n",
       "    <tr>\n",
       "      <th>matchDuration</th>\n",
       "      <td>1,579.507</td>\n",
       "      <td>258.739</td>\n",
       "      <td>133.000</td>\n",
       "      <td>1,367.000</td>\n",
       "      <td>1,438.000</td>\n",
       "      <td>1,851.000</td>\n",
       "      <td>2,237.000</td>\n",
       "    </tr>\n",
       "    <tr>\n",
       "      <th>maxPlace</th>\n",
       "      <td>44.505</td>\n",
       "      <td>23.828</td>\n",
       "      <td>2.000</td>\n",
       "      <td>28.000</td>\n",
       "      <td>30.000</td>\n",
       "      <td>49.000</td>\n",
       "      <td>100.000</td>\n",
       "    </tr>\n",
       "    <tr>\n",
       "      <th>numGroups</th>\n",
       "      <td>43.008</td>\n",
       "      <td>23.289</td>\n",
       "      <td>1.000</td>\n",
       "      <td>27.000</td>\n",
       "      <td>30.000</td>\n",
       "      <td>47.000</td>\n",
       "      <td>100.000</td>\n",
       "    </tr>\n",
       "    <tr>\n",
       "      <th>rankPoints</th>\n",
       "      <td>892.010</td>\n",
       "      <td>736.648</td>\n",
       "      <td>-1.000</td>\n",
       "      <td>-1.000</td>\n",
       "      <td>1,443.000</td>\n",
       "      <td>1,500.000</td>\n",
       "      <td>5,910.000</td>\n",
       "    </tr>\n",
       "    <tr>\n",
       "      <th>revives</th>\n",
       "      <td>0.165</td>\n",
       "      <td>0.472</td>\n",
       "      <td>0.000</td>\n",
       "      <td>0.000</td>\n",
       "      <td>0.000</td>\n",
       "      <td>0.000</td>\n",
       "      <td>39.000</td>\n",
       "    </tr>\n",
       "    <tr>\n",
       "      <th>rideDistance</th>\n",
       "      <td>606.092</td>\n",
       "      <td>1,496.471</td>\n",
       "      <td>0.000</td>\n",
       "      <td>0.000</td>\n",
       "      <td>0.000</td>\n",
       "      <td>0.191</td>\n",
       "      <td>40,710.000</td>\n",
       "    </tr>\n",
       "    <tr>\n",
       "      <th>roadKills</th>\n",
       "      <td>0.003</td>\n",
       "      <td>0.073</td>\n",
       "      <td>0.000</td>\n",
       "      <td>0.000</td>\n",
       "      <td>0.000</td>\n",
       "      <td>0.000</td>\n",
       "      <td>18.000</td>\n",
       "    </tr>\n",
       "    <tr>\n",
       "      <th>swimDistance</th>\n",
       "      <td>4.509</td>\n",
       "      <td>30.238</td>\n",
       "      <td>0.000</td>\n",
       "      <td>0.000</td>\n",
       "      <td>0.000</td>\n",
       "      <td>0.000</td>\n",
       "      <td>3,823.000</td>\n",
       "    </tr>\n",
       "    <tr>\n",
       "      <th>teamKills</th>\n",
       "      <td>0.024</td>\n",
       "      <td>0.167</td>\n",
       "      <td>0.000</td>\n",
       "      <td>0.000</td>\n",
       "      <td>0.000</td>\n",
       "      <td>0.000</td>\n",
       "      <td>12.000</td>\n",
       "    </tr>\n",
       "    <tr>\n",
       "      <th>vehicleDestroys</th>\n",
       "      <td>0.008</td>\n",
       "      <td>0.093</td>\n",
       "      <td>0.000</td>\n",
       "      <td>0.000</td>\n",
       "      <td>0.000</td>\n",
       "      <td>0.000</td>\n",
       "      <td>5.000</td>\n",
       "    </tr>\n",
       "    <tr>\n",
       "      <th>walkDistance</th>\n",
       "      <td>1,148.517</td>\n",
       "      <td>1,180.553</td>\n",
       "      <td>0.000</td>\n",
       "      <td>155.100</td>\n",
       "      <td>685.600</td>\n",
       "      <td>1,976.000</td>\n",
       "      <td>25,780.000</td>\n",
       "    </tr>\n",
       "    <tr>\n",
       "      <th>weaponsAcquired</th>\n",
       "      <td>3.660</td>\n",
       "      <td>2.457</td>\n",
       "      <td>0.000</td>\n",
       "      <td>2.000</td>\n",
       "      <td>3.000</td>\n",
       "      <td>5.000</td>\n",
       "      <td>236.000</td>\n",
       "    </tr>\n",
       "    <tr>\n",
       "      <th>winPoints</th>\n",
       "      <td>606.460</td>\n",
       "      <td>739.700</td>\n",
       "      <td>0.000</td>\n",
       "      <td>0.000</td>\n",
       "      <td>0.000</td>\n",
       "      <td>1,495.000</td>\n",
       "      <td>2,013.000</td>\n",
       "    </tr>\n",
       "    <tr>\n",
       "      <th>winPlacePerc</th>\n",
       "      <td>0.473</td>\n",
       "      <td>0.307</td>\n",
       "      <td>0.000</td>\n",
       "      <td>0.200</td>\n",
       "      <td>0.458</td>\n",
       "      <td>0.741</td>\n",
       "      <td>1.000</td>\n",
       "    </tr>\n",
       "  </tbody>\n",
       "</table>\n",
       "</div>"
      ],
      "text/plain": [
       "                     mean       std     min       25%       50%       75%  \\\n",
       "assists             0.234     0.589   0.000     0.000     0.000     0.000   \n",
       "boosts              1.107     1.716   0.000     0.000     0.000     2.000   \n",
       "damageDealt       130.633   169.887   0.000     0.000    84.240   186.000   \n",
       "DBNOs               0.658     1.146   0.000     0.000     0.000     1.000   \n",
       "headshotKills       0.227     0.602   0.000     0.000     0.000     0.000   \n",
       "heals               1.370     2.680   0.000     0.000     0.000     2.000   \n",
       "killPlace          47.599    27.463   1.000    24.000    47.000    71.000   \n",
       "killPoints        505.006   627.505   0.000     0.000     0.000 1,172.000   \n",
       "kills               0.925     1.558   0.000     0.000     0.000     1.000   \n",
       "killStreaks         0.544     0.711   0.000     0.000     0.000     1.000   \n",
       "longestKill        22.993    51.476   0.000     0.000     0.000    21.320   \n",
       "matchDuration   1,579.507   258.739 133.000 1,367.000 1,438.000 1,851.000   \n",
       "maxPlace           44.505    23.828   2.000    28.000    30.000    49.000   \n",
       "numGroups          43.008    23.289   1.000    27.000    30.000    47.000   \n",
       "rankPoints        892.010   736.648  -1.000    -1.000 1,443.000 1,500.000   \n",
       "revives             0.165     0.472   0.000     0.000     0.000     0.000   \n",
       "rideDistance      606.092 1,496.471   0.000     0.000     0.000     0.191   \n",
       "roadKills           0.003     0.073   0.000     0.000     0.000     0.000   \n",
       "swimDistance        4.509    30.238   0.000     0.000     0.000     0.000   \n",
       "teamKills           0.024     0.167   0.000     0.000     0.000     0.000   \n",
       "vehicleDestroys     0.008     0.093   0.000     0.000     0.000     0.000   \n",
       "walkDistance    1,148.517 1,180.553   0.000   155.100   685.600 1,976.000   \n",
       "weaponsAcquired     3.660     2.457   0.000     2.000     3.000     5.000   \n",
       "winPoints         606.460   739.700   0.000     0.000     0.000 1,495.000   \n",
       "winPlacePerc        0.473     0.307   0.000     0.200     0.458     0.741   \n",
       "\n",
       "                       max  \n",
       "assists             22.000  \n",
       "boosts              33.000  \n",
       "damageDealt      6,616.000  \n",
       "DBNOs               53.000  \n",
       "headshotKills       64.000  \n",
       "heals               80.000  \n",
       "killPlace          101.000  \n",
       "killPoints       2,170.000  \n",
       "kills               72.000  \n",
       "killStreaks         20.000  \n",
       "longestKill      1,094.000  \n",
       "matchDuration    2,237.000  \n",
       "maxPlace           100.000  \n",
       "numGroups          100.000  \n",
       "rankPoints       5,910.000  \n",
       "revives             39.000  \n",
       "rideDistance    40,710.000  \n",
       "roadKills           18.000  \n",
       "swimDistance     3,823.000  \n",
       "teamKills           12.000  \n",
       "vehicleDestroys      5.000  \n",
       "walkDistance    25,780.000  \n",
       "weaponsAcquired    236.000  \n",
       "winPoints        2,013.000  \n",
       "winPlacePerc         1.000  "
      ]
     },
     "execution_count": 7,
     "metadata": {},
     "output_type": "execute_result"
    }
   ],
   "source": [
    "train.describe(include=np.number).drop('count').T"
   ]
  },
  {
   "cell_type": "code",
   "execution_count": 8,
   "metadata": {},
   "outputs": [
    {
     "data": {
      "text/plain": [
       "35"
      ]
     },
     "execution_count": 8,
     "metadata": {},
     "output_type": "execute_result"
    }
   ],
   "source": [
    "datas = train.append(test, sort=False).reset_index(drop=True)\n",
    "\n",
    "del train, test\n",
    "\n",
    "gc.collect()"
   ]
  },
  {
   "cell_type": "code",
   "execution_count": 9,
   "metadata": {},
   "outputs": [],
   "source": [
    "def remplir(dataFrame, val):\n",
    "    \n",
    "    nbcolonnes = dataFrame.select_dtypes(include='number').columns\n",
    "    cols = nbcolonnes[nbcolonnes != 'winPlacePerc']\n",
    "    \n",
    "    dataFrame[dataFrame == np.Inf] = np.NaN\n",
    "    dataFrame[dataFrame == np.NINF] = np.NaN\n",
    "    \n",
    "    for c in cols: dataFrame[c].fillna(val, inplace=True)"
   ]
  },
  {
   "cell_type": "code",
   "execution_count": 10,
   "metadata": {},
   "outputs": [],
   "source": [
    "datas['_killPlaceOverMaxPlace'] = datas['killPlace'] / datas['maxPlace']\n",
    "\n",
    "datas['_killsOverWalkDistance'] = datas['kills'] / datas['walkDistance']\n",
    "\n",
    "datas['_totalDistance'] = datas['rideDistance'] + datas['walkDistance'] + datas['swimDistance']\n",
    "\n",
    "datas['_healthItems'] = datas['heals'] + datas['boosts']\n",
    "\n",
    "datas['_headshotKillRate'] = datas['headshotKills'] / datas['kills']\n",
    "\n",
    "remplir(datas, 0)"
   ]
  },
  {
   "cell_type": "code",
   "execution_count": 11,
   "metadata": {},
   "outputs": [],
   "source": [
    "match = datas.groupby('matchId')\n",
    "\n",
    "datas['walkDistancePerc'] = match['walkDistance'].rank(pct=True).values\n",
    "datas['killsPerc'] = match['kills'].rank(pct=True).values\n",
    "datas['killPlacePerc'] = match['killPlace'].rank(pct=True).values\n",
    "\n",
    "datas['walkPerc_killsPerc'] = datas['walkDistancePerc'] / datas['killsPerc']"
   ]
  },
  {
   "cell_type": "code",
   "execution_count": 12,
   "metadata": {},
   "outputs": [],
   "source": [
    "datas.drop(['rideDistance','swimDistance','matchDuration'], axis=1, inplace=True)\n",
    "datas.drop(['rankPoints','killPoints','winPoints'], axis=1, inplace=True)\n",
    "\n",
    "datas.drop(['boosts','heals','revives','assists'], axis=1, inplace=True)\n",
    "datas.drop(['headshotKills','roadKills','vehicleDestroys','teamKills'], axis=1, inplace=True)"
   ]
  },
  {
   "cell_type": "code",
   "execution_count": 13,
   "metadata": {},
   "outputs": [
    {
     "name": "stdout",
     "output_type": "stream",
     "text": [
      "['damageDealt', 'DBNOs', 'killPlace', 'kills', 'killStreaks', 'longestKill', 'walkDistance', 'weaponsAcquired', '_killPlaceOverMaxPlace', '_killsOverWalkDistance', '_totalDistance', '_healthItems', '_headshotKillRate', 'walkDistancePerc', 'killsPerc', 'killPlacePerc', 'walkPerc_killsPerc']\n"
     ]
    }
   ],
   "source": [
    "group = datas.groupby(['matchId','groupId','matchType'])\n",
    "match = datas.groupby(['matchId'])\n",
    "\n",
    "cols = list(datas.columns)\n",
    "\n",
    "cols_exclues = ['Id','matchId','groupId','matchType','maxPlace','numGroups','winPlacePerc']\n",
    "\n",
    "for c in cols_exclues:\n",
    "    cols.remove(c)\n",
    "print(cols)\n",
    "\n",
    "col_somme = ['kills','killPlace','damageDealt','walkDistance','_healthItems']"
   ]
  },
  {
   "cell_type": "code",
   "execution_count": 14,
   "metadata": {},
   "outputs": [
    {
     "name": "stdout",
     "output_type": "stream",
     "text": [
      "L'utilisation de la memoire du dataframe est passé de 408.37 MB à 288.92 MB (decroissant de 29.3%)\n",
      "(2912982, 24)\n"
     ]
    }
   ],
   "source": [
    "data_match = pd.concat([\n",
    "    match.size().to_frame('m.players'), \n",
    "    match[col_somme].sum().rename(columns=lambda s: 'm.sum.' + s), \n",
    "    match[col_somme].max().rename(columns=lambda s: 'm.max.' + s),\n",
    "    match[col_somme].mean().rename(columns=lambda s: 'm.mean.' + s)\n",
    "    ], axis=1).reset_index()\n",
    "\n",
    "data_match = pd.merge(data_match, \n",
    "    group[col_somme].sum().rename(columns=lambda s: 'sum.' + s).reset_index())\n",
    "\n",
    "data_match = reduire_utilisation_mem(data_match)\n",
    "\n",
    "print(data_match.shape)"
   ]
  },
  {
   "cell_type": "code",
   "execution_count": 15,
   "metadata": {},
   "outputs": [
    {
     "name": "stdout",
     "output_type": "stream",
     "text": [
      "L'utilisation de la memoire du dataframe est passé de 400.04 MB à 344.48 MB (decroissant de 13.9%)\n",
      "(2912982, 29)\n"
     ]
    }
   ],
   "source": [
    "killsMinimum = datas.sort_values(['matchId','groupId','kills','killPlace']).groupby(\n",
    "    ['matchId','groupId','kills']).first().reset_index().copy()\n",
    "\n",
    "for n in np.arange(5):\n",
    "    c = 'kills_' + str(n) + '_Place'\n",
    "    nbrKills = (killsMinimum['kills'] == n)\n",
    "    killsMinimum.loc[nbrKills, c] = killsMinimum[nbrKills].groupby(['matchId'])['killPlace'].rank().values\n",
    "    data_match = pd.merge(data_match, killsMinimum[nbrKills][['matchId','groupId',c]], how='left')\n",
    "    data_match[c].fillna(0, inplace=True)\n",
    "    \n",
    "data_match = reduire_utilisation_mem(data_match)\n",
    "del killsMinimum, nbrKills\n",
    "\n",
    "print(data_match.shape)"
   ]
  },
  {
   "cell_type": "code",
   "execution_count": 16,
   "metadata": {},
   "outputs": [
    {
     "name": "stdout",
     "output_type": "stream",
     "text": [
      "L'utilisation de la memoire du dataframe est passé de 883.42 MB à 575.05 MB (decroissant de 34.9%)\n",
      "(2912982, 58)\n"
     ]
    }
   ],
   "source": [
    "datas = pd.concat([\n",
    "    group.size().to_frame('players'),\n",
    "    group.mean(),\n",
    "    group[cols].max().rename(columns=lambda s: 'max.' + s),\n",
    "    group[cols].min().rename(columns=lambda s: 'min.' + s),\n",
    "    ], axis=1).reset_index()\n",
    "\n",
    "datas = reduire_utilisation_mem(datas)\n",
    "\n",
    "print(datas.shape)"
   ]
  },
  {
   "cell_type": "code",
   "execution_count": 17,
   "metadata": {},
   "outputs": [],
   "source": [
    "nbcolonnes = datas.select_dtypes(include='number').columns.values\n",
    "\n",
    "nbcolonnes = nbcolonnes[nbcolonnes != 'winPlacePerc']"
   ]
  },
  {
   "cell_type": "code",
   "execution_count": 18,
   "metadata": {},
   "outputs": [
    {
     "name": "stdout",
     "output_type": "stream",
     "text": [
      "(2912982, 90)\n"
     ]
    }
   ],
   "source": [
    "datas = pd.merge(datas, data_match)\n",
    "\n",
    "del data_match\n",
    "\n",
    "gc.collect()\n",
    "\n",
    "datas['enemy.players'] = datas['m.players'] - datas['players']\n",
    "for c in col_somme:\n",
    "    datas['enemy.' + c] = (datas['m.sum.' + c] - datas['sum.' + c]) / datas['enemy.players']\n",
    "    datas['p.max_msum.' + c] = datas['max.' + c] / datas['m.sum.' + c]\n",
    "    datas['p.max_mmax.' + c] = datas['max.' + c] / datas['m.max.' + c]\n",
    "    datas.drop(['m.sum.' + c, 'm.max.' + c], axis=1, inplace=True)\n",
    "    \n",
    "remplir(datas, 0)\n",
    "\n",
    "print(datas.shape)"
   ]
  },
  {
   "cell_type": "code",
   "execution_count": 19,
   "metadata": {},
   "outputs": [
    {
     "name": "stdout",
     "output_type": "stream",
     "text": [
      "L'utilisation de la memoire du dataframe est passé de 2169.65 MB à 1536.25 MB (decroissant de 29.2%)\n",
      "(2912982, 144)\n"
     ]
    }
   ],
   "source": [
    "match = datas.groupby('matchId')\n",
    "rangMatch = match[nbcolonnes].rank(pct=True).rename(columns=lambda s: 'rank.' + s)\n",
    "datas = reduire_utilisation_mem(pd.concat([datas, rangMatch], axis=1))\n",
    "col_rang = rangMatch.columns\n",
    "\n",
    "del rangMatch\n",
    "\n",
    "gc.collect()\n",
    "\n",
    "match = datas.groupby('matchId')\n",
    "rangMatch = match[col_rang].max().rename(columns=lambda s: 'max.' + s).reset_index()\n",
    "datas = pd.merge(datas, rangMatch)\n",
    "\n",
    "for c in nbcolonnes:\n",
    "    datas['rank.' + c] = datas['rank.' + c] / datas['max.rank.' + c]\n",
    "    datas.drop(['max.rank.' + c], axis=1, inplace=True)\n",
    "    \n",
    "del rangMatch\n",
    "\n",
    "gc.collect()\n",
    "\n",
    "print(datas.shape)"
   ]
  },
  {
   "cell_type": "code",
   "execution_count": 20,
   "metadata": {},
   "outputs": [
    {
     "data": {
      "text/plain": [
       "70"
      ]
     },
     "execution_count": 20,
     "metadata": {},
     "output_type": "execute_result"
    }
   ],
   "source": [
    "rangKillMinor = datas[['matchId','min.kills','max.killPlace']].copy()\n",
    "\n",
    "group = rangKillMinor.groupby(['matchId','min.kills'])\n",
    "\n",
    "rangKillMinor['rank.minor.maxKillPlace'] = group.rank(pct=True).values\n",
    "\n",
    "datas = pd.merge(datas, rangKillMinor)\n",
    "\n",
    "rangKillMinor = datas[['matchId','max.kills','min.killPlace']].copy()\n",
    "\n",
    "group = rangKillMinor.groupby(['matchId','max.kills'])\n",
    "\n",
    "rangKillMinor['rank.minor.minKillPlace'] = group.rank(pct=True).values\n",
    "\n",
    "datas = pd.merge(datas, rangKillMinor)\n",
    "\n",
    "del rangKillMinor\n",
    "\n",
    "gc.collect()"
   ]
  },
  {
   "cell_type": "code",
   "execution_count": 21,
   "metadata": {},
   "outputs": [
    {
     "name": "stdout",
     "output_type": "stream",
     "text": [
      "colonnes supprimées: ['rank.maxPlace', 'rank.numGroups']\n"
     ]
    }
   ],
   "source": [
    "colonne_cste = [colonne for colonne in datas.columns if datas[colonne].nunique() == 1]\n",
    "\n",
    "print('colonnes supprimées:', colonne_cste)\n",
    "\n",
    "datas.drop(colonne_cste, axis=1, inplace=True)"
   ]
  },
  {
   "cell_type": "code",
   "execution_count": 22,
   "metadata": {},
   "outputs": [],
   "source": [
    "solo_duo_squad = lambda x: 'solo' if ('solo' in x) else 'duo' if ('duo' in x) or ('crash' in x) else 'squad'\n",
    "\n",
    "datas['matchType'] = datas['matchType'].apply(solo_duo_squad)\n",
    "\n",
    "datas = pd.concat([datas, pd.get_dummies(datas['matchType'], prefix='matchType')], axis=1)"
   ]
  },
  {
   "cell_type": "code",
   "execution_count": 23,
   "metadata": {},
   "outputs": [
    {
     "name": "stdout",
     "output_type": "stream",
     "text": [
      "L'utilisation de la memoire du dataframe est passé de 1566.81 MB à 1550.14 MB (decroissant de 1.1%)\n"
     ]
    },
    {
     "data": {
      "text/html": [
       "<div>\n",
       "<style scoped>\n",
       "    .dataframe tbody tr th:only-of-type {\n",
       "        vertical-align: middle;\n",
       "    }\n",
       "\n",
       "    .dataframe tbody tr th {\n",
       "        vertical-align: top;\n",
       "    }\n",
       "\n",
       "    .dataframe thead th {\n",
       "        text-align: right;\n",
       "    }\n",
       "</style>\n",
       "<table border=\"1\" class=\"dataframe\">\n",
       "  <thead>\n",
       "    <tr style=\"text-align: right;\">\n",
       "      <th></th>\n",
       "      <th>matchId</th>\n",
       "      <th>groupId</th>\n",
       "      <th>matchType</th>\n",
       "      <th>players</th>\n",
       "      <th>damageDealt</th>\n",
       "      <th>DBNOs</th>\n",
       "      <th>killPlace</th>\n",
       "      <th>kills</th>\n",
       "      <th>killStreaks</th>\n",
       "      <th>longestKill</th>\n",
       "      <th>...</th>\n",
       "      <th>rank.min._headshotKillRate</th>\n",
       "      <th>rank.min.walkDistancePerc</th>\n",
       "      <th>rank.min.killsPerc</th>\n",
       "      <th>rank.min.killPlacePerc</th>\n",
       "      <th>rank.min.walkPerc_killsPerc</th>\n",
       "      <th>rank.minor.maxKillPlace</th>\n",
       "      <th>rank.minor.minKillPlace</th>\n",
       "      <th>matchType_duo</th>\n",
       "      <th>matchType_solo</th>\n",
       "      <th>matchType_squad</th>\n",
       "    </tr>\n",
       "  </thead>\n",
       "  <tbody>\n",
       "    <tr>\n",
       "      <th>0</th>\n",
       "      <td>0000a43bce5eec</td>\n",
       "      <td>18b16ec699d8b6</td>\n",
       "      <td>0</td>\n",
       "      <td>2</td>\n",
       "      <td>109.675</td>\n",
       "      <td>1.000</td>\n",
       "      <td>41.000</td>\n",
       "      <td>1.000</td>\n",
       "      <td>0.500</td>\n",
       "      <td>6.275</td>\n",
       "      <td>...</td>\n",
       "      <td>0.500</td>\n",
       "      <td>0.286</td>\n",
       "      <td>0.411</td>\n",
       "      <td>0.429</td>\n",
       "      <td>0.143</td>\n",
       "      <td>0.591</td>\n",
       "      <td>1.000</td>\n",
       "      <td>0.000</td>\n",
       "      <td>0.000</td>\n",
       "      <td>1.000</td>\n",
       "    </tr>\n",
       "    <tr>\n",
       "      <th>1</th>\n",
       "      <td>0000a43bce5eec</td>\n",
       "      <td>236ab9e9c081b9</td>\n",
       "      <td>0</td>\n",
       "      <td>6</td>\n",
       "      <td>47.988</td>\n",
       "      <td>0.333</td>\n",
       "      <td>90.500</td>\n",
       "      <td>0.000</td>\n",
       "      <td>0.000</td>\n",
       "      <td>0.000</td>\n",
       "      <td>...</td>\n",
       "      <td>0.500</td>\n",
       "      <td>0.054</td>\n",
       "      <td>0.411</td>\n",
       "      <td>0.964</td>\n",
       "      <td>0.054</td>\n",
       "      <td>0.955</td>\n",
       "      <td>0.900</td>\n",
       "      <td>0.000</td>\n",
       "      <td>0.000</td>\n",
       "      <td>1.000</td>\n",
       "    </tr>\n",
       "    <tr>\n",
       "      <th>2</th>\n",
       "      <td>0000a43bce5eec</td>\n",
       "      <td>3a6addfa0df938</td>\n",
       "      <td>0</td>\n",
       "      <td>2</td>\n",
       "      <td>0.000</td>\n",
       "      <td>0.000</td>\n",
       "      <td>94.500</td>\n",
       "      <td>0.000</td>\n",
       "      <td>0.000</td>\n",
       "      <td>0.000</td>\n",
       "      <td>...</td>\n",
       "      <td>0.500</td>\n",
       "      <td>0.054</td>\n",
       "      <td>0.411</td>\n",
       "      <td>1.000</td>\n",
       "      <td>0.054</td>\n",
       "      <td>1.000</td>\n",
       "      <td>1.000</td>\n",
       "      <td>0.000</td>\n",
       "      <td>0.000</td>\n",
       "      <td>1.000</td>\n",
       "    </tr>\n",
       "    <tr>\n",
       "      <th>3</th>\n",
       "      <td>0000a43bce5eec</td>\n",
       "      <td>4bf06994bd4c9a</td>\n",
       "      <td>0</td>\n",
       "      <td>2</td>\n",
       "      <td>11.700</td>\n",
       "      <td>0.000</td>\n",
       "      <td>59.500</td>\n",
       "      <td>0.000</td>\n",
       "      <td>0.000</td>\n",
       "      <td>0.000</td>\n",
       "      <td>...</td>\n",
       "      <td>0.500</td>\n",
       "      <td>0.429</td>\n",
       "      <td>0.411</td>\n",
       "      <td>0.821</td>\n",
       "      <td>0.857</td>\n",
       "      <td>0.545</td>\n",
       "      <td>0.500</td>\n",
       "      <td>0.000</td>\n",
       "      <td>0.000</td>\n",
       "      <td>1.000</td>\n",
       "    </tr>\n",
       "    <tr>\n",
       "      <th>4</th>\n",
       "      <td>0000a43bce5eec</td>\n",
       "      <td>4d1bbbc19b9084</td>\n",
       "      <td>0</td>\n",
       "      <td>2</td>\n",
       "      <td>340.950</td>\n",
       "      <td>2.500</td>\n",
       "      <td>14.000</td>\n",
       "      <td>3.000</td>\n",
       "      <td>1.500</td>\n",
       "      <td>25.230</td>\n",
       "      <td>...</td>\n",
       "      <td>1.000</td>\n",
       "      <td>1.000</td>\n",
       "      <td>0.857</td>\n",
       "      <td>0.143</td>\n",
       "      <td>0.750</td>\n",
       "      <td>0.333</td>\n",
       "      <td>1.000</td>\n",
       "      <td>0.000</td>\n",
       "      <td>0.000</td>\n",
       "      <td>1.000</td>\n",
       "    </tr>\n",
       "  </tbody>\n",
       "</table>\n",
       "<p>5 rows × 147 columns</p>\n",
       "</div>"
      ],
      "text/plain": [
       "          matchId         groupId  matchType  players  damageDealt  DBNOs  \\\n",
       "0  0000a43bce5eec  18b16ec699d8b6          0        2      109.675  1.000   \n",
       "1  0000a43bce5eec  236ab9e9c081b9          0        6       47.988  0.333   \n",
       "2  0000a43bce5eec  3a6addfa0df938          0        2        0.000  0.000   \n",
       "3  0000a43bce5eec  4bf06994bd4c9a          0        2       11.700  0.000   \n",
       "4  0000a43bce5eec  4d1bbbc19b9084          0        2      340.950  2.500   \n",
       "\n",
       "   killPlace  kills  killStreaks  longestKill       ...         \\\n",
       "0     41.000  1.000        0.500        6.275       ...          \n",
       "1     90.500  0.000        0.000        0.000       ...          \n",
       "2     94.500  0.000        0.000        0.000       ...          \n",
       "3     59.500  0.000        0.000        0.000       ...          \n",
       "4     14.000  3.000        1.500       25.230       ...          \n",
       "\n",
       "   rank.min._headshotKillRate  rank.min.walkDistancePerc  rank.min.killsPerc  \\\n",
       "0                       0.500                      0.286               0.411   \n",
       "1                       0.500                      0.054               0.411   \n",
       "2                       0.500                      0.054               0.411   \n",
       "3                       0.500                      0.429               0.411   \n",
       "4                       1.000                      1.000               0.857   \n",
       "\n",
       "   rank.min.killPlacePerc  rank.min.walkPerc_killsPerc  \\\n",
       "0                   0.429                        0.143   \n",
       "1                   0.964                        0.054   \n",
       "2                   1.000                        0.054   \n",
       "3                   0.821                        0.857   \n",
       "4                   0.143                        0.750   \n",
       "\n",
       "   rank.minor.maxKillPlace  rank.minor.minKillPlace  matchType_duo  \\\n",
       "0                    0.591                    1.000          0.000   \n",
       "1                    0.955                    0.900          0.000   \n",
       "2                    1.000                    1.000          0.000   \n",
       "3                    0.545                    0.500          0.000   \n",
       "4                    0.333                    1.000          0.000   \n",
       "\n",
       "   matchType_solo  matchType_squad  \n",
       "0           0.000            1.000  \n",
       "1           0.000            1.000  \n",
       "2           0.000            1.000  \n",
       "3           0.000            1.000  \n",
       "4           0.000            1.000  \n",
       "\n",
       "[5 rows x 147 columns]"
      ]
     },
     "execution_count": 23,
     "metadata": {},
     "output_type": "execute_result"
    }
   ],
   "source": [
    "cols = [colonne for colonne in datas.columns if colonne not in ['Id','matchId','groupId']]\n",
    "\n",
    "for i, t in datas.loc[:, cols].dtypes.iteritems():\n",
    "    if t == object:\n",
    "        datas[i] = pd.factorize(datas[i])[0]\n",
    "\n",
    "        \n",
    "datas = reduire_utilisation_mem(datas)\n",
    "datas.head()"
   ]
  },
  {
   "cell_type": "code",
   "execution_count": 24,
   "metadata": {},
   "outputs": [
    {
     "name": "stdout",
     "output_type": "stream",
     "text": [
      "(2026744, 144) (886238, 144)\n"
     ]
    }
   ],
   "source": [
    "X_train = datas[datas['winPlacePerc'].notnull()].reset_index(drop=True)\n",
    "X_test = datas[datas['winPlacePerc'].isnull()].drop(['winPlacePerc'], axis=1).reset_index(drop=True)\n",
    "\n",
    "del datas\n",
    "\n",
    "gc.collect()\n",
    "\n",
    "Y_train = X_train.pop('winPlacePerc')\n",
    "X_test_groupe = X_test[['matchId','groupId']].copy()\n",
    "\n",
    "\n",
    "\n",
    "X_train.drop(['matchId','groupId'], axis=1, inplace=True)\n",
    "X_test.drop(['matchId','groupId'], axis=1, inplace=True)\n",
    "\n",
    "X_train_colonnes = X_train.columns\n",
    "\n",
    "print(X_train.shape, X_test.shape)"
   ]
  },
  {
   "cell_type": "code",
   "execution_count": 25,
   "metadata": {},
   "outputs": [
    {
     "name": "stderr",
     "output_type": "stream",
     "text": [
      "Using TensorFlow backend.\n"
     ]
    }
   ],
   "source": [
    "from keras.layers import PReLU\n",
    "from keras.layers import BatchNormalization\n",
    "from keras.layers import Dropout\n",
    "from keras.models import load_model\n",
    "from keras.models import Sequential\n",
    "from keras.callbacks import LearningRateScheduler\n",
    "from keras.callbacks import ReduceLROnPlateau\n",
    "from keras.callbacks import ModelCheckpoint\n",
    "from keras import optimizers\n",
    "from keras import regularizers\n",
    "from keras.callbacks import EarlyStopping\n",
    "from keras.layers import Dense\n",
    "\n",
    "def creationModel():\n",
    "    model = Sequential()\n",
    "    \n",
    "    model.add(Dense(512, kernel_initializer='he_normal', input_dim=X_train.shape[1], activation='relu'))\n",
    "    \n",
    "    model.add(BatchNormalization())\n",
    "    \n",
    "    model.add(Dropout(0.2))\n",
    "\n",
    "    model.add(Dense(256, kernel_initializer='he_normal'))\n",
    "    \n",
    "    model.add(PReLU(alpha_initializer='zeros', alpha_regularizer=None, alpha_constraint=None, shared_axes=None))\n",
    "    \n",
    "    model.add(BatchNormalization())\n",
    "    \n",
    "    model.add(Dropout(0.2))\n",
    "\n",
    "    model.add(Dense(128, kernel_initializer='he_normal'))\n",
    "    \n",
    "    model.add(PReLU(alpha_initializer='zeros', alpha_regularizer=None, alpha_constraint=None, shared_axes=None))\n",
    "    \n",
    "    model.add(BatchNormalization())\n",
    "    \n",
    "    model.add(Dropout(0.1))\n",
    "\n",
    "    model.add(Dense(1, kernel_initializer='normal', activation='sigmoid'))\n",
    "    \n",
    "\n",
    "    optimizer = optimizers.Adam(lr=0.005)\n",
    "    \n",
    "    model.compile(optimizer=optimizer, loss='mse', metrics=['mae'])\n",
    "    \n",
    "    \n",
    "    return model"
   ]
  },
  {
   "cell_type": "code",
   "execution_count": 26,
   "metadata": {},
   "outputs": [],
   "source": [
    "def etape_decr(lr_initial=1e-3, factor_decr=0.75, taille_etape=10, verbose=0):\n",
    "    \n",
    "    \n",
    "    def tps(epoch):\n",
    "        return lr_initial * (factor_decr ** np.floor(epoch/taille_etape))\n",
    "    \n",
    "    return LearningRateScheduler(tps, verbose)\n",
    "\n",
    "\n",
    "lr_tps = etape_decr(lr_initial=0.001, factor_decr=0.97, taille_etape=1, verbose=1)\n",
    "\n",
    "early_stopping = EarlyStopping(monitor='val_mean_absolute_error', mode='min', patience=10, verbose=1)"
   ]
  },
  {
   "cell_type": "code",
   "execution_count": 27,
   "metadata": {},
   "outputs": [
    {
     "name": "stdout",
     "output_type": "stream",
     "text": [
      "WARNING:tensorflow:From C:\\Users\\Marwan\\Anaconda3\\lib\\site-packages\\tensorflow\\python\\framework\\op_def_library.py:263: colocate_with (from tensorflow.python.framework.ops) is deprecated and will be removed in a future version.\n",
      "Instructions for updating:\n",
      "Colocations handled automatically by placer.\n",
      "WARNING:tensorflow:From C:\\Users\\Marwan\\Anaconda3\\lib\\site-packages\\keras\\backend\\tensorflow_backend.py:3445: calling dropout (from tensorflow.python.ops.nn_ops) with keep_prob is deprecated and will be removed in a future version.\n",
      "Instructions for updating:\n",
      "Please use `rate` instead of `keep_prob`. Rate should be set to `rate = 1 - keep_prob`.\n",
      "WARNING:tensorflow:From C:\\Users\\Marwan\\Anaconda3\\lib\\site-packages\\tensorflow\\python\\ops\\math_ops.py:3066: to_int32 (from tensorflow.python.ops.math_ops) is deprecated and will be removed in a future version.\n",
      "Instructions for updating:\n",
      "Use tf.cast instead.\n",
      "Train on 1621395 samples, validate on 405349 samples\n",
      "Epoch 1/1\n",
      "\n",
      "Epoch 00001: LearningRateScheduler setting learning rate to 0.001.\n",
      " - 98s - loss: 0.0095 - mean_absolute_error: 0.0671 - val_loss: 0.0039 - val_mean_absolute_error: 0.0476\n"
     ]
    }
   ],
   "source": [
    "from tensorflow import set_random_seed\n",
    "from sklearn import preprocessing\n",
    "\n",
    "np.random.seed(42)\n",
    "set_random_seed(1234)\n",
    "\n",
    "scaler = preprocessing.StandardScaler().fit(X_train.astype(float))\n",
    "X_train = scaler.transform(X_train.astype(float))\n",
    "X_test = scaler.transform(X_test.astype(float))\n",
    "\n",
    "model = creationModel()\n",
    "history = model.fit(\n",
    "        X_train, Y_train,\n",
    "        epochs=100,\n",
    "        batch_size=2**15,\n",
    "        validation_split=0.2,\n",
    "        callbacks=[lr_tps, early_stopping],\n",
    "        verbose=2)\n",
    "pred = model.predict(X_test).ravel()"
   ]
  },
  {
   "cell_type": "code",
   "execution_count": 28,
   "metadata": {},
   "outputs": [
    {
     "data": {
      "image/png": "[encoded data removed]",
      "text/plain": [
       "<Figure size 432x288 with 1 Axes>"
      ]
     },
     "metadata": {
      "needs_background": "light"
     },
     "output_type": "display_data"
    },
    {
     "data": {
      "image/png": "[encoded data removed]",
      "text/plain": [
       "<Figure size 432x288 with 1 Axes>"
      ]
     },
     "metadata": {
      "needs_background": "light"
     },
     "output_type": "display_data"
    }
   ],
   "source": [
    "plt.plot(history.history['loss'])\n",
    "\n",
    "plt.plot(history.history['val_loss'])\n",
    "\n",
    "plt.title('Perte du modele')\n",
    "\n",
    "plt.xlabel('Epoch')\n",
    "\n",
    "plt.ylabel('Loss')\n",
    "\n",
    "\n",
    "plt.legend(['Train', 'Test'], loc='upper left')\n",
    "\n",
    "plt.show()\n",
    "\n",
    "\n",
    "plt.plot(history.history['mean_absolute_error'])\n",
    "\n",
    "plt.plot(history.history['val_mean_absolute_error'])\n",
    "\n",
    "plt.title('Erreur absolue de la moyenne')\n",
    "\n",
    "plt.xlabel('Epoch')\n",
    "\n",
    "plt.ylabel('Mean absolute error')\n",
    "\n",
    "plt.legend(['Train', 'Test'], loc='upper left')\n",
    "\n",
    "plt.show()"
   ]
  },
  {
   "cell_type": "code",
   "execution_count": 29,
   "metadata": {},
   "outputs": [],
   "source": [
    "X_test = pd.read_csv('C:/Users/Marwan/Desktop/BDDAvancées/test_V2.csv', engine='python')\n",
    "\n",
    "X_test = X_test.groupby(['matchId','groupId','matchType']).first().reset_index()\n",
    "\n",
    "X_test = X_test[['matchId','groupId','matchType','numGroups','maxPlace','kills','killPlace']]\n",
    "\n",
    "group = X_test_groupe.groupby(['matchId'])\n",
    "\n",
    "X_test_groupe['winPlacePerc'] = pred\n",
    "\n",
    "X_test_groupe['_rank.winPlacePerc'] = group['winPlacePerc'].rank(method='min')\n",
    "\n",
    "X_test = pd.merge(X_test, X_test_groupe)"
   ]
  },
  {
   "cell_type": "code",
   "execution_count": 30,
   "metadata": {},
   "outputs": [],
   "source": [
    "groupeComplet = (X_test['numGroups'] == X_test['maxPlace'])\n",
    "\n",
    "ssEnsble = X_test.loc[groupeComplet]\n",
    "\n",
    "X_test.loc[groupeComplet, 'winPlacePerc'] = (ssEnsble['_rank.winPlacePerc'].values - 1) / (ssEnsble['maxPlace'].values - 1)\n",
    "\n",
    "\n",
    "ssEnsble = X_test.loc[~groupeComplet]\n",
    "\n",
    "gap = 1.0 / (ssEnsble['maxPlace'].values - 1)\n",
    "\n",
    "new_val = np.around(ssEnsble['winPlacePerc'].values / gap) * gap\n",
    "\n",
    "X_test.loc[~groupeComplet, 'winPlacePerc'] = new_val\n",
    "\n",
    "X_test['winPlacePerc'] = X_test['winPlacePerc'].clip(lower=0,upper=1)"
   ]
  },
  {
   "cell_type": "code",
   "execution_count": 31,
   "metadata": {},
   "outputs": [
    {
     "name": "stdout",
     "output_type": "stream",
     "text": [
      "Vérification des anomalies dans winPlacePerc - les joueurs avec le même nombre de kills doivent avoir des scores dans l’ordre de killPlace\n",
      "Iteration 1 Nombre d'anomalies : 113370\n",
      "\n"
     ]
    },
    {
     "name": "stderr",
     "output_type": "stream",
     "text": [
      "C:\\Users\\Marwan\\Anaconda3\\lib\\site-packages\\ipykernel_launcher.py:33: SettingWithCopyWarning: \n",
      "A value is trying to be set on a copy of a slice from a DataFrame.\n",
      "Try using .loc[row_indexer,col_indexer] = value instead\n",
      "\n",
      "See the caveats in the documentation: http://pandas.pydata.org/pandas-docs/stable/indexing.html#indexing-view-versus-copy\n",
      "Identification des groupes uniques: 100%|███████████████████████████████████████| 15000/15000 [01:31<00:00, 164.42it/s]\n"
     ]
    },
    {
     "name": "stdout",
     "output_type": "stream",
     "text": [
      "Iteration 2 Nombre d'anomalies : 103663\n",
      "\n"
     ]
    },
    {
     "name": "stderr",
     "output_type": "stream",
     "text": [
      "Identification des groupes uniques: 100%|███████████████████████████████████████| 15000/15000 [01:33<00:00, 159.57it/s]\n"
     ]
    },
    {
     "name": "stdout",
     "output_type": "stream",
     "text": [
      "Iteration 3 Nombre d'anomalies : 94325\n",
      "\n"
     ]
    },
    {
     "name": "stderr",
     "output_type": "stream",
     "text": [
      "Identification des groupes uniques: 100%|███████████████████████████████████████| 15000/15000 [01:26<00:00, 172.61it/s]\n"
     ]
    },
    {
     "name": "stdout",
     "output_type": "stream",
     "text": [
      "Iteration 4 Nombre d'anomalies : 84909\n",
      "\n"
     ]
    },
    {
     "name": "stderr",
     "output_type": "stream",
     "text": [
      "Identification des groupes uniques: 100%|███████████████████████████████████████| 15000/15000 [01:34<00:00, 159.18it/s]\n"
     ]
    },
    {
     "name": "stdout",
     "output_type": "stream",
     "text": [
      "Iteration 5 Nombre d'anomalies : 75488\n",
      "\n"
     ]
    },
    {
     "name": "stderr",
     "output_type": "stream",
     "text": [
      "Identification des groupes uniques: 100%|███████████████████████████████████████| 15000/15000 [01:31<00:00, 164.16it/s]\n"
     ]
    },
    {
     "name": "stdout",
     "output_type": "stream",
     "text": [
      "Iteration 6 Nombre d'anomalies : 66069\n",
      "\n"
     ]
    },
    {
     "name": "stderr",
     "output_type": "stream",
     "text": [
      "Identification des groupes uniques: 100%|███████████████████████████████████████| 15000/15000 [01:24<00:00, 177.31it/s]\n"
     ]
    },
    {
     "name": "stdout",
     "output_type": "stream",
     "text": [
      "Iteration 7 Nombre d'anomalies : 56654\n",
      "\n"
     ]
    },
    {
     "name": "stderr",
     "output_type": "stream",
     "text": [
      "Identification des groupes uniques: 100%|███████████████████████████████████████| 15000/15000 [01:28<00:00, 168.90it/s]\n"
     ]
    },
    {
     "name": "stdout",
     "output_type": "stream",
     "text": [
      "Iteration 8 Nombre d'anomalies : 47248\n",
      "\n"
     ]
    },
    {
     "name": "stderr",
     "output_type": "stream",
     "text": [
      "Identification des groupes uniques: 100%|███████████████████████████████████████| 15000/15000 [01:27<00:00, 172.07it/s]\n"
     ]
    },
    {
     "name": "stdout",
     "output_type": "stream",
     "text": [
      "Iteration 9 Nombre d'anomalies : 37891\n",
      "\n"
     ]
    },
    {
     "name": "stderr",
     "output_type": "stream",
     "text": [
      "Identification des groupes uniques: 100%|███████████████████████████████████████| 15000/15000 [01:16<00:00, 195.98it/s]\n"
     ]
    },
    {
     "name": "stdout",
     "output_type": "stream",
     "text": [
      "Iteration 10 Nombre d'anomalies : 28457\n",
      "\n"
     ]
    },
    {
     "name": "stderr",
     "output_type": "stream",
     "text": [
      "Identification des groupes uniques: 100%|███████████████████████████████████████| 15000/15000 [01:16<00:00, 195.32it/s]\n"
     ]
    },
    {
     "name": "stdout",
     "output_type": "stream",
     "text": [
      "Iteration 11 Nombre d'anomalies : 19130\n",
      "\n"
     ]
    },
    {
     "name": "stderr",
     "output_type": "stream",
     "text": [
      "Identification des groupes uniques: 100%|███████████████████████████████████████| 15000/15000 [01:17<00:00, 194.24it/s]\n"
     ]
    },
    {
     "name": "stdout",
     "output_type": "stream",
     "text": [
      "Iteration 12 Nombre d'anomalies : 9846\n",
      "\n"
     ]
    },
    {
     "name": "stderr",
     "output_type": "stream",
     "text": [
      "Identification des groupes uniques: 100%|█████████████████████████████████████████| 9845/9845 [00:41<00:00, 234.80it/s]\n"
     ]
    },
    {
     "name": "stdout",
     "output_type": "stream",
     "text": [
      "Iteration 13 Nombre d'anomalies : 3897\n",
      "\n"
     ]
    },
    {
     "name": "stderr",
     "output_type": "stream",
     "text": [
      "Identification des groupes uniques: 100%|█████████████████████████████████████████| 3896/3896 [00:14<00:00, 277.66it/s]\n"
     ]
    },
    {
     "name": "stdout",
     "output_type": "stream",
     "text": [
      "Iteration 14 Nombre d'anomalies : 1566\n",
      "\n"
     ]
    },
    {
     "name": "stderr",
     "output_type": "stream",
     "text": [
      "Identification des groupes uniques: 100%|█████████████████████████████████████████| 1565/1565 [00:05<00:00, 291.40it/s]\n"
     ]
    },
    {
     "name": "stdout",
     "output_type": "stream",
     "text": [
      "Iteration 15 Nombre d'anomalies : 584\n",
      "\n"
     ]
    },
    {
     "name": "stderr",
     "output_type": "stream",
     "text": [
      "Identification des groupes uniques: 100%|███████████████████████████████████████████| 583/583 [00:01<00:00, 297.09it/s]\n"
     ]
    },
    {
     "name": "stdout",
     "output_type": "stream",
     "text": [
      "Iteration 16 Nombre d'anomalies : 240\n",
      "\n"
     ]
    },
    {
     "name": "stderr",
     "output_type": "stream",
     "text": [
      "Identification des groupes uniques: 100%|███████████████████████████████████████████| 239/239 [00:00<00:00, 296.22it/s]\n"
     ]
    },
    {
     "name": "stdout",
     "output_type": "stream",
     "text": [
      "Iteration 17 Nombre d'anomalies : 89\n",
      "\n"
     ]
    },
    {
     "name": "stderr",
     "output_type": "stream",
     "text": [
      "Identification des groupes uniques: 100%|█████████████████████████████████████████████| 88/88 [00:00<00:00, 277.47it/s]\n"
     ]
    },
    {
     "name": "stdout",
     "output_type": "stream",
     "text": [
      "Iteration 18 Nombre d'anomalies : 40\n",
      "\n"
     ]
    },
    {
     "name": "stderr",
     "output_type": "stream",
     "text": [
      "Identification des groupes uniques: 100%|█████████████████████████████████████████████| 39/39 [00:00<00:00, 275.31it/s]\n"
     ]
    },
    {
     "name": "stdout",
     "output_type": "stream",
     "text": [
      "Iteration 19 Nombre d'anomalies : 15\n",
      "\n"
     ]
    },
    {
     "name": "stderr",
     "output_type": "stream",
     "text": [
      "Identification des groupes uniques: 100%|█████████████████████████████████████████████| 14/14 [00:00<00:00, 255.00it/s]\n"
     ]
    },
    {
     "name": "stdout",
     "output_type": "stream",
     "text": [
      "Iteration 20 Nombre d'anomalies : 6\n",
      "\n"
     ]
    },
    {
     "name": "stderr",
     "output_type": "stream",
     "text": [
      "Identification des groupes uniques: 100%|███████████████████████████████████████████████| 5/5 [00:00<00:00, 238.71it/s]\n"
     ]
    },
    {
     "name": "stdout",
     "output_type": "stream",
     "text": [
      "Iteration 21 Nombre d'anomalies : 2\n",
      "\n"
     ]
    },
    {
     "name": "stderr",
     "output_type": "stream",
     "text": [
      "Identification des groupes uniques: 100%|███████████████████████████████████████████████| 1/1 [00:00<00:00, 200.57it/s]\n"
     ]
    },
    {
     "name": "stdout",
     "output_type": "stream",
     "text": [
      "Iteration 22 Nombre d'anomalies : 2\n",
      "\n"
     ]
    },
    {
     "name": "stderr",
     "output_type": "stream",
     "text": [
      "Identification des groupes uniques: 100%|███████████████████████████████████████████████| 1/1 [00:00<00:00, 167.12it/s]\n"
     ]
    },
    {
     "name": "stdout",
     "output_type": "stream",
     "text": [
      "Iteration 23 Nombre d'anomalies : 2\n",
      "\n"
     ]
    },
    {
     "name": "stderr",
     "output_type": "stream",
     "text": [
      "Identification des groupes uniques: 100%|███████████████████████████████████████████████| 1/1 [00:00<00:00, 250.81it/s]\n"
     ]
    },
    {
     "name": "stdout",
     "output_type": "stream",
     "text": [
      "Iteration 24 Nombre d'anomalies : 2\n",
      "\n"
     ]
    },
    {
     "name": "stderr",
     "output_type": "stream",
     "text": [
      "Identification des groupes uniques: 100%|███████████████████████████████████████████████| 1/1 [00:00<00:00, 200.50it/s]\n"
     ]
    },
    {
     "name": "stdout",
     "output_type": "stream",
     "text": [
      "Iteration 25 Nombre d'anomalies : 2\n",
      "\n"
     ]
    },
    {
     "name": "stderr",
     "output_type": "stream",
     "text": [
      "Identification des groupes uniques: 100%|███████████████████████████████████████████████| 1/1 [00:00<00:00, 167.12it/s]\n"
     ]
    },
    {
     "name": "stdout",
     "output_type": "stream",
     "text": [
      "Iteration 26 Nombre d'anomalies : 1\n",
      "\n"
     ]
    },
    {
     "name": "stderr",
     "output_type": "stream",
     "text": [
      "Identification des groupes uniques: 100%|███████████████████████████████████████████████| 1/1 [00:00<00:00, 200.55it/s]\n"
     ]
    },
    {
     "name": "stdout",
     "output_type": "stream",
     "text": [
      "Iteration 27 Nombre d'anomalies : 0\n",
      "Correction finie de winPlacePerc\n"
     ]
    }
   ],
   "source": [
    "from tqdm import tqdm\n",
    "\n",
    "print(\"Vérification des anomalies dans winPlacePerc - les joueurs avec le même nombre de kills doivent avoir des scores dans l’ordre de killPlace\")\n",
    "\n",
    "correct = True\n",
    "nbr_iteration = 1\n",
    "\n",
    "while correct & (nbr_iteration <= 1000):\n",
    "    X_test.sort_values(ascending=False, by=[\"matchId\",\"kills\",\"killPlace\",\"winPlacePerc\",\"groupId\"], inplace=True)\n",
    "    X_test[\"winPlacePerc_diff\"] = X_test[\"winPlacePerc\"].diff()\n",
    "    X_test[\"kills_diff\"] = X_test[\"kills\"].diff()\n",
    "    X_test[\"prev_matchId\"] = X_test[\"matchId\"].shift(1)\n",
    "    X_test[\"prev_groupId\"] = X_test[\"groupId\"].shift(1)\n",
    "    X_test[\"prev_winPlacePerc\"] = X_test[\"winPlacePerc\"].shift(1)\n",
    "    \n",
    "\n",
    "    dataFrame_ssEns2 = X_test[(X_test[\"winPlacePerc_diff\"] < 0) \n",
    "                     & (X_test[\"kills_diff\"] == 0) \n",
    "                     & (X_test[\"matchId\"] == X_test[\"prev_matchId\"])]\n",
    "    \n",
    "    nbr_anomalies = len(dataFrame_ssEns2)\n",
    "\n",
    "    print(\"Iteration \" + str(nbr_iteration) + \" Nombre d'anomalies : \" + str(nbr_anomalies))\n",
    "\n",
    "    groupesChge = list()\n",
    "    \n",
    "    \n",
    "\n",
    "    if nbr_anomalies > 0:\n",
    "        print()\n",
    "\n",
    "\n",
    "        dataFrame_ssEns2[\"new_winPlacePerc\"] = dataFrame_ssEns2[\"winPlacePerc\"] \n",
    "\n",
    "        dataFrame_ssEns3 = pd.DataFrame()\n",
    "\n",
    "        \n",
    "        for i in tqdm(range(1, min(15001, max(nbr_anomalies, 2))), \n",
    "                      desc=\"Identification des groupes uniques\", mininterval=10):\n",
    "            row = dataFrame_ssEns2.iloc[i - 1]\n",
    "            id_precedent = str(row[\"prev_matchId\"]) + \"!\" + str(row[\"prev_groupId\"])\n",
    "            id_actuel = str(row[\"matchId\"]) + \"!\" + str(row[\"groupId\"])\n",
    "            if (not id_precedent in groupesChge) & (not id_actuel in groupesChge):\n",
    "                groupesChge.append(id_precedent)\n",
    "                groupesChge.append(id_actuel)\n",
    "                dataFrame_ssEns3 = dataFrame_ssEns3.append({\"matchId\": row[\"matchId\"], \"groupId\": row[\"prev_groupId\"], \n",
    "                                          \"new_winPlacePerc\": row[\"winPlacePerc\"]}, \n",
    "                                         sort=False, ignore_index=True)\n",
    "                dataFrame_ssEns3 = dataFrame_ssEns3.append({\"matchId\": row[\"matchId\"], \"groupId\": row[\"groupId\"], \n",
    "                                          \"new_winPlacePerc\": row[\"prev_winPlacePerc\"]}, \n",
    "                                         sort=False, ignore_index=True)\n",
    "\n",
    "        \n",
    "        dataFrame_ssEns3.drop_duplicates(inplace=True)\n",
    "        \n",
    "        X_test = X_test.merge(dataFrame_ssEns3, on=[\"matchId\", \"groupId\"], how=\"left\")\n",
    "        \n",
    "        notna = X_test[\"new_winPlacePerc\"].notna()\n",
    "        \n",
    "        X_test.loc[notna, \"winPlacePerc\"] = X_test.loc[notna][\"new_winPlacePerc\"]\n",
    "        \n",
    "        X_test.drop(labels=\"new_winPlacePerc\", axis=1, inplace=True)\n",
    "        \n",
    "        del dataFrame_ssEns2\n",
    "        \n",
    "        del dataFrame_ssEns3\n",
    "        \n",
    "        dataFrame_ssEns2 = None\n",
    "        \n",
    "        dataFrame_ssEns3 = None\n",
    "        \n",
    "        gc.collect()\n",
    "    \n",
    "    else:\n",
    "        correct = False\n",
    "\n",
    "    nbr_iteration = nbr_iteration + 1\n",
    "\n",
    "\n",
    "if correct:\n",
    "    print(\"Limite d'itérations atteinte\")\n",
    "\n",
    "print(\"Correction finie de winPlacePerc\")"
   ]
  },
  {
   "cell_type": "code",
   "execution_count": 38,
   "metadata": {},
   "outputs": [
    {
     "data": {
      "text/plain": [
       "count   886,238.000\n",
       "mean          0.498\n",
       "std           0.313\n",
       "min           0.000\n",
       "25%           0.213\n",
       "50%           0.495\n",
       "75%           0.800\n",
       "max           1.000\n",
       "Name: winPlacePerc, dtype: float64"
      ]
     },
     "execution_count": 38,
     "metadata": {},
     "output_type": "execute_result"
    }
   ],
   "source": [
    "X_test.loc[X_test['maxPlace'] == 0, 'winPlacePerc'] = 0\n",
    "\n",
    "X_test.loc[X_test['maxPlace'] == 1, 'winPlacePerc'] = 1 \n",
    "\n",
    "X_test.loc[(X_test['maxPlace'] > 1) & (X_test['numGroups'] == 1), 'winPlacePerc'] = 0\n",
    "\n",
    "X_test['winPlacePerc'].describe()"
   ]
  },
  {
   "cell_type": "code",
   "execution_count": 33,
   "metadata": {},
   "outputs": [],
   "source": [
    "test = pd.read_csv('C:/Users/Marwan/Desktop/BDDAvancées/test_V2.csv', engine='python')\n",
    "\n",
    "submission = pd.merge(test, X_test[['matchId','groupId','winPlacePerc']])\n",
    "\n",
    "submission = submission[['Id','winPlacePerc']]\n",
    "\n",
    "submission.to_csv(\"submission_100_Epochs.csv\", index=False)"
   ]
  }
 ],
 "metadata": {
  "kernelspec": {
   "display_name": "Python 3",
   "language": "python",
   "name": "python3"
  },
  "language_info": {
   "codemirror_mode": {
    "name": "ipython",
    "version": 3
   },
   "file_extension": ".py",
   "mimetype": "text/x-python",
   "name": "python",
   "nbconvert_exporter": "python",
   "pygments_lexer": "ipython3",
   "version": "3.7.1"
  }
 },
 "nbformat": 4,
 "nbformat_minor": 2
}
